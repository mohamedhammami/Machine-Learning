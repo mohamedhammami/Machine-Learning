{
 "cells": [
  {
   "cell_type": "code",
   "execution_count": 1,
   "metadata": {},
   "outputs": [],
   "source": [
    "import cv2\n",
    "import datetime"
   ]
  },
  {
   "cell_type": "code",
   "execution_count": 2,
   "metadata": {},
   "outputs": [],
   "source": [
    "img = cv2.imread('/home/yashwant/Documents/summer_work/opencv-master/samples/data/lena.jpg',1)"
   ]
  },
  {
   "cell_type": "code",
   "execution_count": 3,
   "metadata": {
    "scrolled": false
   },
   "outputs": [
    {
     "name": "stdout",
     "output_type": "stream",
     "text": [
      "[[[128 138 225]\n",
      "  [127 137 224]\n",
      "  [126 136 224]\n",
      "  ...\n",
      "  [126 145 236]\n",
      "  [110 129 220]\n",
      "  [ 86 104 197]]\n",
      "\n",
      " [[127 137 224]\n",
      "  [127 137 224]\n",
      "  [127 137 224]\n",
      "  ...\n",
      "  [130 150 235]\n",
      "  [112 132 217]\n",
      "  [ 83 102 189]]\n",
      "\n",
      " [[127 137 224]\n",
      "  [127 137 224]\n",
      "  [128 138 225]\n",
      "  ...\n",
      "  [127 148 230]\n",
      "  [112 133 215]\n",
      "  [ 85 105 190]]\n",
      "\n",
      " ...\n",
      "\n",
      " [[ 55  21  82]\n",
      "  [ 54  20  81]\n",
      "  [ 62  28  92]\n",
      "  ...\n",
      "  [ 82  71 175]\n",
      "  [ 78  68 175]\n",
      "  [ 74  65 175]]\n",
      "\n",
      " [[ 55  18  80]\n",
      "  [ 56  19  81]\n",
      "  [ 66  32  96]\n",
      "  ...\n",
      "  [ 82  69 177]\n",
      "  [ 80  71 181]\n",
      "  [ 81  72 183]]\n",
      "\n",
      " [[ 56  19  81]\n",
      "  [ 58  21  83]\n",
      "  [ 68  34  98]\n",
      "  ...\n",
      "  [ 81  68 176]\n",
      "  [ 81  72 183]\n",
      "  [ 84  74 188]]]\n"
     ]
    }
   ],
   "source": [
    "print(img)"
   ]
  },
  {
   "cell_type": "code",
   "execution_count": 4,
   "metadata": {},
   "outputs": [],
   "source": [
    "cv2.imshow('image',img)\n",
    "k=cv2.waitKey(0)\n",
    "if k==27:\n",
    "    cv2.destroyAllWindows()\n",
    "elif k ==ord('a'):\n",
    "    cv2.imwrite('lena_copy.jpg',img)\n",
    "    cv2.destroyAllWindows()"
   ]
  },
  {
   "cell_type": "code",
   "execution_count": 5,
   "metadata": {},
   "outputs": [],
   "source": [
    "cap = cv2.VideoCapture('/home/yashwant/Videos/asus videos/my.mp4');\n",
    "while(cap.isOpened()):\n",
    "    ret,frame= cap.read()\n",
    "    gray = cv2.cvtColor(frame,cv2.COLOR_BGR2GRAY)\n",
    "    cv2.imshow('frame',gray)\n",
    "    if cv2.waitKey(16)& 0xFF == ord('q'):\n",
    "        break\n",
    "cap.release()\n",
    "cv2.destroyAllWindows()\n",
    "        \n",
    "    "
   ]
  },
  {
   "cell_type": "code",
   "execution_count": 6,
   "metadata": {},
   "outputs": [
    {
     "data": {
      "text/plain": [
       "16.666666666666668"
      ]
     },
     "execution_count": 6,
     "metadata": {},
     "output_type": "execute_result"
    }
   ],
   "source": [
    "1000/60\n"
   ]
  },
  {
   "cell_type": "code",
   "execution_count": 9,
   "metadata": {},
   "outputs": [
    {
     "name": "stdout",
     "output_type": "stream",
     "text": [
      "1280.0\n",
      "720.0\n"
     ]
    }
   ],
   "source": [
    "cap = cv2.VideoCapture(-1);\n",
    "cap.set(3,1000)\n",
    "cap.set(4,720)\n",
    "fourcc = cv2.VideoWriter_fourcc(*'XVID')\n",
    "out = cv2.VideoWriter('output.mp4',fourcc,20,(1280,720))\n",
    "out1 = cv2.VideoWriter('output.avi',fourcc,20,(1280,720))\n",
    "while(cap.isOpened()):\n",
    "    ret,frame= cap.read()\n",
    "    if ret == True:\n",
    "        datet = str(datetime.datetime.now())\n",
    "        cv2.putText(frame,'width:'+str(cap.get(3))+' Height:'+str(cap.get(4)),(10,50),cv2.FONT_HERSHEY_COMPLEX,1,(0,255,255),2,lineType=cv2.LINE_AA)\n",
    "        cv2.putText(frame,datet,(500,50),cv2.FONT_HERSHEY_COMPLEX,1,(0,255,255),2,lineType=cv2.LINE_AA)\n",
    "        gray=cv2.cvtColor(frame,cv2.COLOR_BGR2GRAY)\n",
    "        out.write(frame)\n",
    "        out1.write(frame)\n",
    "        cv2.imshow('frame',gray)\n",
    "        if cv2.waitKey(33)& 0xFF == ord('q'):\n",
    "            break\n",
    "    else: \n",
    "        break\n",
    "        \n",
    "print(cap.get(cv2.CAP_PROP_FRAME_WIDTH))\n",
    "print(cap.get(cv2.CAP_PROP_FRAME_HEIGHT))\n",
    "cap.release()\n",
    "out.release()\n",
    "cv2.destroyAllWindows()\n",
    "        \n",
    "    "
   ]
  },
  {
   "cell_type": "code",
   "execution_count": 8,
   "metadata": {},
   "outputs": [
    {
     "data": {
      "text/plain": [
       "33.333333333333336"
      ]
     },
     "execution_count": 8,
     "metadata": {},
     "output_type": "execute_result"
    }
   ],
   "source": [
    "1000/30"
   ]
  },
  {
   "cell_type": "code",
   "execution_count": null,
   "metadata": {},
   "outputs": [],
   "source": []
  }
 ],
 "metadata": {
  "hide_input": false,
  "kernelspec": {
   "display_name": "Python 3",
   "language": "python",
   "name": "python3"
  },
  "language_info": {
   "codemirror_mode": {
    "name": "ipython",
    "version": 3
   },
   "file_extension": ".py",
   "mimetype": "text/x-python",
   "name": "python",
   "nbconvert_exporter": "python",
   "pygments_lexer": "ipython3",
   "version": "3.6.8"
  },
  "toc": {
   "base_numbering": 1,
   "nav_menu": {},
   "number_sections": true,
   "sideBar": true,
   "skip_h1_title": false,
   "title_cell": "Table of Contents",
   "title_sidebar": "Contents",
   "toc_cell": false,
   "toc_position": {},
   "toc_section_display": true,
   "toc_window_display": false
  },
  "varInspector": {
   "cols": {
    "lenName": 16,
    "lenType": 16,
    "lenVar": 40
   },
   "kernels_config": {
    "python": {
     "delete_cmd_postfix": "",
     "delete_cmd_prefix": "del ",
     "library": "var_list.py",
     "varRefreshCmd": "print(var_dic_list())"
    },
    "r": {
     "delete_cmd_postfix": ") ",
     "delete_cmd_prefix": "rm(",
     "library": "var_list.r",
     "varRefreshCmd": "cat(var_dic_list()) "
    }
   },
   "types_to_exclude": [
    "module",
    "function",
    "builtin_function_or_method",
    "instance",
    "_Feature"
   ],
   "window_display": false
  }
 },
 "nbformat": 4,
 "nbformat_minor": 2
}
