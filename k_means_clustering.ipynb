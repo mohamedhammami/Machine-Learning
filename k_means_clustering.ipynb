{
 "cells": [
  {
   "cell_type": "code",
   "execution_count": 1,
   "metadata": {},
   "outputs": [],
   "source": [
    "import pandas as pd\n",
    "import numpy as np \n",
    "import matplotlib.pyplot as plt\n",
    "from sklearn.cluster import KMeans\n",
    "from sklearn.model_selection import train_test_split"
   ]
  },
  {
   "cell_type": "code",
   "execution_count": 2,
   "metadata": {},
   "outputs": [],
   "source": [
    "data = pd.read_csv(\"/home/yashwant/Documents/summer_work/cosmic_skill_course/friendly-fortnight-master/xclara.csv\")"
   ]
  },
  {
   "cell_type": "code",
   "execution_count": 3,
   "metadata": {},
   "outputs": [
    {
     "name": "stdout",
     "output_type": "stream",
     "text": [
      "          V1         V2\n",
      "0   2.072345  -3.241693\n",
      "1  17.936710  15.784810\n",
      "2   1.083576   7.319176\n",
      "3  11.120670  14.406780\n",
      "4  23.711550   2.557729\n"
     ]
    }
   ],
   "source": [
    "print(data.head())"
   ]
  },
  {
   "cell_type": "code",
   "execution_count": 4,
   "metadata": {},
   "outputs": [
    {
     "data": {
      "text/html": [
       "<div>\n",
       "<style scoped>\n",
       "    .dataframe tbody tr th:only-of-type {\n",
       "        vertical-align: middle;\n",
       "    }\n",
       "\n",
       "    .dataframe tbody tr th {\n",
       "        vertical-align: top;\n",
       "    }\n",
       "\n",
       "    .dataframe thead th {\n",
       "        text-align: right;\n",
       "    }\n",
       "</style>\n",
       "<table border=\"1\" class=\"dataframe\">\n",
       "  <thead>\n",
       "    <tr style=\"text-align: right;\">\n",
       "      <th></th>\n",
       "      <th>V1</th>\n",
       "      <th>V2</th>\n",
       "    </tr>\n",
       "  </thead>\n",
       "  <tbody>\n",
       "    <tr>\n",
       "      <th>0</th>\n",
       "      <td>2.072345</td>\n",
       "      <td>-3.241693</td>\n",
       "    </tr>\n",
       "    <tr>\n",
       "      <th>1</th>\n",
       "      <td>17.936710</td>\n",
       "      <td>15.784810</td>\n",
       "    </tr>\n",
       "    <tr>\n",
       "      <th>2</th>\n",
       "      <td>1.083576</td>\n",
       "      <td>7.319176</td>\n",
       "    </tr>\n",
       "    <tr>\n",
       "      <th>3</th>\n",
       "      <td>11.120670</td>\n",
       "      <td>14.406780</td>\n",
       "    </tr>\n",
       "    <tr>\n",
       "      <th>4</th>\n",
       "      <td>23.711550</td>\n",
       "      <td>2.557729</td>\n",
       "    </tr>\n",
       "    <tr>\n",
       "      <th>5</th>\n",
       "      <td>24.169930</td>\n",
       "      <td>32.024780</td>\n",
       "    </tr>\n",
       "    <tr>\n",
       "      <th>6</th>\n",
       "      <td>21.665780</td>\n",
       "      <td>4.892855</td>\n",
       "    </tr>\n",
       "    <tr>\n",
       "      <th>7</th>\n",
       "      <td>4.693684</td>\n",
       "      <td>12.342170</td>\n",
       "    </tr>\n",
       "    <tr>\n",
       "      <th>8</th>\n",
       "      <td>19.211910</td>\n",
       "      <td>-1.121366</td>\n",
       "    </tr>\n",
       "    <tr>\n",
       "      <th>9</th>\n",
       "      <td>4.230391</td>\n",
       "      <td>-4.441536</td>\n",
       "    </tr>\n",
       "  </tbody>\n",
       "</table>\n",
       "</div>"
      ],
      "text/plain": [
       "          V1         V2\n",
       "0   2.072345  -3.241693\n",
       "1  17.936710  15.784810\n",
       "2   1.083576   7.319176\n",
       "3  11.120670  14.406780\n",
       "4  23.711550   2.557729\n",
       "5  24.169930  32.024780\n",
       "6  21.665780   4.892855\n",
       "7   4.693684  12.342170\n",
       "8  19.211910  -1.121366\n",
       "9   4.230391  -4.441536"
      ]
     },
     "execution_count": 4,
     "metadata": {},
     "output_type": "execute_result"
    }
   ],
   "source": [
    "data.head(10)"
   ]
  },
  {
   "cell_type": "code",
   "execution_count": 5,
   "metadata": {},
   "outputs": [],
   "source": [
    "KMeans?"
   ]
  },
  {
   "cell_type": "markdown",
   "metadata": {},
   "source": [
    "### use shift + tab for getting the signature of the function"
   ]
  },
  {
   "cell_type": "markdown",
   "metadata": {},
   "source": [
    "KMeans (shift+tab)"
   ]
  },
  {
   "cell_type": "code",
   "execution_count": 6,
   "metadata": {},
   "outputs": [],
   "source": [
    "k=5"
   ]
  },
  {
   "cell_type": "code",
   "execution_count": 7,
   "metadata": {},
   "outputs": [],
   "source": [
    "kmean = KMeans(n_clusters=k)"
   ]
  },
  {
   "cell_type": "code",
   "execution_count": 8,
   "metadata": {},
   "outputs": [],
   "source": [
    "x_train,x_test= train_test_split(data,test_size=0.2,random_state=1)"
   ]
  },
  {
   "cell_type": "code",
   "execution_count": 9,
   "metadata": {},
   "outputs": [
    {
     "data": {
      "text/plain": [
       "(2400, 2)"
      ]
     },
     "execution_count": 9,
     "metadata": {},
     "output_type": "execute_result"
    }
   ],
   "source": [
    "x_train.shape"
   ]
  },
  {
   "cell_type": "code",
   "execution_count": 10,
   "metadata": {},
   "outputs": [
    {
     "data": {
      "text/plain": [
       "(600, 2)"
      ]
     },
     "execution_count": 10,
     "metadata": {},
     "output_type": "execute_result"
    }
   ],
   "source": [
    "x_test.shape"
   ]
  },
  {
   "cell_type": "code",
   "execution_count": 11,
   "metadata": {},
   "outputs": [],
   "source": [
    "kmean=kmean.fit(x_train)"
   ]
  },
  {
   "cell_type": "code",
   "execution_count": 12,
   "metadata": {},
   "outputs": [],
   "source": [
    "labels = kmean.labels_"
   ]
  },
  {
   "cell_type": "code",
   "execution_count": 13,
   "metadata": {},
   "outputs": [
    {
     "name": "stdout",
     "output_type": "stream",
     "text": [
      "[1 1 1 ... 2 1 4]\n"
     ]
    }
   ],
   "source": [
    "print(labels)"
   ]
  },
  {
   "cell_type": "code",
   "execution_count": 14,
   "metadata": {},
   "outputs": [
    {
     "data": {
      "text/plain": [
       "(2400,)"
      ]
     },
     "execution_count": 14,
     "metadata": {},
     "output_type": "execute_result"
    }
   ],
   "source": [
    "labels.shape"
   ]
  },
  {
   "cell_type": "code",
   "execution_count": 15,
   "metadata": {},
   "outputs": [],
   "source": [
    "centroids = kmean.cluster_centers_"
   ]
  },
  {
   "cell_type": "code",
   "execution_count": 16,
   "metadata": {},
   "outputs": [
    {
     "name": "stdout",
     "output_type": "stream",
     "text": [
      "[[ 70.53520191 -18.94162775]\n",
      " [  9.61032895  10.64116997]\n",
      " [ 48.0006784   59.38341962]\n",
      " [ 69.95974768  -1.99271671]\n",
      " [ 31.25646927  60.04404056]]\n"
     ]
    }
   ],
   "source": [
    "print(centroids)"
   ]
  },
  {
   "cell_type": "code",
   "execution_count": 17,
   "metadata": {},
   "outputs": [],
   "source": [
    "prediction=kmean.predict(x_test)"
   ]
  },
  {
   "cell_type": "code",
   "execution_count": 18,
   "metadata": {},
   "outputs": [
    {
     "name": "stdout",
     "output_type": "stream",
     "text": [
      "[4 0 2 4 2 1 1 1 1 2 4 2 0 2 1 2 1 0 2 4 3 1 1 2 3 1 3 4 1 1 4 2 1 3 0 1 2\n",
      " 1 0 3 4 1 2 1 1 1 2 4 4 1 2 2 4 1 3 3 0 1 1 1 1 4 3 3 4 1 3 1 4 0 3 2 2 1\n",
      " 0 1 1 1 3 2 1 2 3 2 1 1 1 1 1 4 1 4 4 3 1 3 4 1 3 2 1 2 1 0 1 4 1 4 3 2 3\n",
      " 3 0 3 4 1 4 4 3 0 3 1 1 3 4 3 1 2 2 0 2 0 1 2 2 3 2 1 1 4 0 2 3 2 3 2 3 4\n",
      " 1 1 4 2 0 3 1 1 2 1 1 0 2 0 3 3 3 0 2 3 2 3 2 2 4 1 3 4 2 1 2 0 0 1 4 0 0\n",
      " 2 4 4 1 2 3 3 0 4 1 3 1 1 1 1 0 1 2 0 4 1 2 3 1 1 1 1 3 2 3 4 1 2 0 4 4 2\n",
      " 2 2 3 0 1 1 4 0 1 4 2 2 0 1 2 0 3 0 0 2 2 3 1 2 4 1 1 3 0 0 4 0 3 2 3 4 1\n",
      " 3 2 0 2 1 3 1 2 3 3 0 2 3 4 2 3 1 0 2 2 2 3 2 0 3 0 1 2 3 2 2 3 3 4 3 2 4\n",
      " 1 1 1 0 2 2 4 3 1 4 1 3 4 4 3 1 1 1 0 0 3 4 2 1 3 2 3 4 3 3 1 1 3 1 3 1 0\n",
      " 4 0 1 3 2 2 0 4 3 4 2 4 2 2 1 2 1 4 3 3 2 3 1 1 3 2 0 1 2 1 2 1 1 3 0 2 4\n",
      " 1 3 2 4 0 2 2 1 1 4 2 4 2 0 0 1 3 1 4 0 2 1 4 0 3 2 3 4 4 2 0 3 2 4 2 3 1\n",
      " 1 4 0 4 2 3 2 1 2 3 3 2 3 3 1 1 0 1 0 0 1 3 0 1 1 2 1 1 1 3 3 4 3 1 4 4 2\n",
      " 1 1 3 2 1 3 1 4 0 2 2 3 3 1 1 4 1 1 2 4 2 1 2 2 2 2 1 0 0 1 2 1 3 2 1 4 1\n",
      " 2 3 4 4 1 4 0 2 3 1 1 0 1 1 1 0 2 2 2 1 1 4 0 1 1 0 1 0 1 1 4 4 3 2 2 2 4\n",
      " 2 1 2 2 4 0 1 4 4 1 1 3 3 2 2 1 1 1 0 0 2 1 2 2 2 0 4 0 3 3 2 3 0 4 0 3 3\n",
      " 1 4 3 2 2 4 2 4 2 2 4 4 1 2 2 4 4 1 2 2 4 4 2 0 1 0 2 3 0 2 1 0 1 4 2 4 0\n",
      " 3 4 1 0 1 3 4 4]\n"
     ]
    }
   ],
   "source": [
    "print(prediction)"
   ]
  },
  {
   "cell_type": "code",
   "execution_count": 19,
   "metadata": {},
   "outputs": [],
   "source": [
    "colors =['blue','red','green','black','magenta']"
   ]
  },
  {
   "cell_type": "code",
   "execution_count": 20,
   "metadata": {},
   "outputs": [],
   "source": [
    "y=0"
   ]
  },
  {
   "cell_type": "markdown",
   "metadata": {},
   "source": [
    "plt.scatter (shift+tab)"
   ]
  },
  {
   "cell_type": "code",
   "execution_count": 21,
   "metadata": {},
   "outputs": [
    {
     "data": {
      "image/png": "[encoded data removed]",
      "text/plain": [
       "<Figure size 432x288 with 1 Axes>"
      ]
     },
     "metadata": {
      "needs_background": "light"
     },
     "output_type": "display_data"
    }
   ],
   "source": [
    "for x in labels:\n",
    "    plt.scatter(x_train.iloc[y,0],x_train.iloc[y,1],color=colors[x])\n",
    "    y+=1\n",
    "for x in range(k):\n",
    "    lines=plt.plot(centroids[x,0],centroids[x,1],'wx')\n",
    "    plt.setp(lines,ms=15.0)\n",
    "    plt.setp(lines,mew=2.0)\n",
    "plt.show()"
   ]
  },
  {
   "cell_type": "code",
   "execution_count": 22,
   "metadata": {},
   "outputs": [],
   "source": [
    "plt.plot?"
   ]
  },
  {
   "cell_type": "code",
   "execution_count": 23,
   "metadata": {},
   "outputs": [],
   "source": [
    "plt.setp?"
   ]
  }
 ],
 "metadata": {
  "kernelspec": {
   "display_name": "Python 3",
   "language": "python",
   "name": "python3"
  },
  "language_info": {
   "codemirror_mode": {
    "name": "ipython",
    "version": 3
   },
   "file_extension": ".py",
   "mimetype": "text/x-python",
   "name": "python",
   "nbconvert_exporter": "python",
   "pygments_lexer": "ipython3",
   "version": "3.6.8"
  }
 },
 "nbformat": 4,
 "nbformat_minor": 2
}
